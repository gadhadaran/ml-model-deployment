{
 "cells": [
  {
   "cell_type": "code",
   "execution_count": 1,
   "id": "b426e606-d061-43c8-9b3b-328eac49e65d",
   "metadata": {},
   "outputs": [
    {
     "name": "stdout",
     "output_type": "stream",
     "text": [
      "Collecting azureml-sdk\n",
      "  Downloading azureml_sdk-1.57.0-py3-none-any.whl (2.7 kB)\n",
      "Collecting azureml-train-core~=1.57.0\n",
      "  Downloading azureml_train_core-1.57.0-py3-none-any.whl (8.6 MB)\n",
      "     ---------------------------------------- 8.6/8.6 MB 2.0 MB/s eta 0:00:00\n",
      "Collecting azureml-dataset-runtime[fuse]~=1.57.0\n",
      "  Downloading azureml_dataset_runtime-1.57.0-py3-none-any.whl (2.2 kB)\n",
      "Collecting azureml-pipeline~=1.57.0\n",
      "  Downloading azureml_pipeline-1.57.0-py3-none-any.whl (2.4 kB)\n",
      "Collecting azureml-core~=1.57.0\n",
      "  Downloading azureml_core-1.57.0-py3-none-any.whl (3.3 MB)\n",
      "     ---------------------------------------- 3.3/3.3 MB 2.0 MB/s eta 0:00:00\n",
      "Collecting azureml-train-automl-client~=1.57.0\n",
      "  Downloading azureml_train_automl_client-1.57.0-py3-none-any.whl (137 kB)\n",
      "     -------------------------------------- 137.6/137.6 kB 2.1 MB/s eta 0:00:00\n",
      "Collecting SecretStorage<4.0.0\n",
      "  Downloading SecretStorage-3.3.3-py3-none-any.whl (15 kB)\n",
      "Collecting docker<8.0.0\n",
      "  Downloading docker-7.1.0-py3-none-any.whl (147 kB)\n",
      "     -------------------------------------- 147.8/147.8 kB 2.2 MB/s eta 0:00:00\n",
      "Collecting adal<=1.2.7,>=1.2.0\n",
      "  Downloading adal-1.2.7-py2.py3-none-any.whl (55 kB)\n",
      "     ---------------------------------------- 55.5/55.5 kB 1.5 MB/s eta 0:00:00\n",
      "Requirement already satisfied: pkginfo in c:\\users\\user\\anaconda3\\lib\\site-packages (from azureml-core~=1.57.0->azureml-sdk) (1.8.2)\n",
      "Collecting urllib3<3.0.0,>1.26.17\n",
      "  Downloading urllib3-2.2.2-py3-none-any.whl (121 kB)\n",
      "     -------------------------------------- 121.4/121.4 kB 2.4 MB/s eta 0:00:00\n",
      "Collecting knack<0.12.0\n",
      "  Downloading knack-0.11.0-py3-none-any.whl (60 kB)\n",
      "     ---------------------------------------- 60.8/60.8 kB 3.2 MB/s eta 0:00:00\n",
      "Collecting azure-mgmt-containerregistry<11,>=8.2.0\n",
      "  Downloading azure_mgmt_containerregistry-10.3.0-py3-none-any.whl (2.3 MB)\n",
      "     ---------------------------------------- 2.3/2.3 MB 3.6 MB/s eta 0:00:00\n",
      "Collecting msal<2.0.0,>=1.15.0\n",
      "  Downloading msal-1.30.0-py3-none-any.whl (111 kB)\n",
      "     -------------------------------------- 111.8/111.8 kB 2.2 MB/s eta 0:00:00\n",
      "Collecting azure-mgmt-keyvault<11.0.0,>=0.40.0\n",
      "  Downloading azure_mgmt_keyvault-10.3.1-py3-none-any.whl (901 kB)\n",
      "     -------------------------------------- 901.4/901.4 kB 3.6 MB/s eta 0:00:00\n",
      "Collecting azure-graphrbac<1.0.0,>=0.40.0\n",
      "  Downloading azure_graphrbac-0.61.1-py2.py3-none-any.whl (141 kB)\n",
      "     -------------------------------------- 141.4/141.4 kB 4.2 MB/s eta 0:00:00\n",
      "Collecting msrestazure<=0.7,>=0.4.33\n",
      "  Downloading msrestazure-0.6.4.post1-py2.py3-none-any.whl (40 kB)\n",
      "     -------------------------------------- 40.8/40.8 kB 985.5 kB/s eta 0:00:00\n",
      "Requirement already satisfied: paramiko<4.0.0,>=2.0.8 in c:\\users\\user\\anaconda3\\lib\\site-packages (from azureml-core~=1.57.0->azureml-sdk) (2.8.1)\n",
      "Requirement already satisfied: pytz in c:\\users\\user\\anaconda3\\lib\\site-packages (from azureml-core~=1.57.0->azureml-sdk) (2022.1)\n",
      "Collecting azure-mgmt-resource<=24.0.0,>=15.0.0\n",
      "  Downloading azure_mgmt_resource-23.1.1-py3-none-any.whl (2.6 MB)\n",
      "     ---------------------------------------- 2.6/2.6 MB 2.6 MB/s eta 0:00:00\n",
      "Requirement already satisfied: PyJWT<3.0.0 in c:\\users\\user\\anaconda3\\lib\\site-packages (from azureml-core~=1.57.0->azureml-sdk) (2.4.0)\n",
      "Collecting ndg-httpsclient<=0.5.1\n",
      "  Downloading ndg_httpsclient-0.5.1-py3-none-any.whl (34 kB)\n",
      "Collecting azure-common<2.0.0,>=1.1.12\n",
      "  Downloading azure_common-1.1.28-py2.py3-none-any.whl (14 kB)\n",
      "Collecting azure-mgmt-storage<=22.0.0,>=16.0.0\n",
      "  Downloading azure_mgmt_storage-21.2.1-py3-none-any.whl (3.2 MB)\n",
      "     ---------------------------------------- 3.2/3.2 MB 2.9 MB/s eta 0:00:00\n",
      "Collecting msal-extensions<=2.0.0,>=0.3.0\n",
      "  Downloading msal_extensions-1.2.0-py3-none-any.whl (19 kB)\n",
      "Requirement already satisfied: pathspec<1.0.0 in c:\\users\\user\\anaconda3\\lib\\site-packages (from azureml-core~=1.57.0->azureml-sdk) (0.9.0)\n",
      "Collecting azure-core<2.0.0\n",
      "  Downloading azure_core-1.30.2-py3-none-any.whl (194 kB)\n",
      "     -------------------------------------- 194.3/194.3 kB 3.9 MB/s eta 0:00:00\n",
      "Requirement already satisfied: pyopenssl<25.0.0 in c:\\users\\user\\anaconda3\\lib\\site-packages (from azureml-core~=1.57.0->azureml-sdk) (22.0.0)\n",
      "Collecting azure-mgmt-authorization<5,>=0.40.0\n",
      "  Downloading azure_mgmt_authorization-4.0.0-py3-none-any.whl (1.1 MB)\n",
      "     ---------------------------------------- 1.1/1.1 MB 1.9 MB/s eta 0:00:00\n",
      "Collecting msrest<=0.7.1,>=0.5.1\n",
      "  Downloading msrest-0.7.1-py3-none-any.whl (85 kB)\n",
      "     ---------------------------------------- 85.4/85.4 kB 1.6 MB/s eta 0:00:00\n",
      "Collecting humanfriendly<11.0,>=4.7\n",
      "  Downloading humanfriendly-10.0-py2.py3-none-any.whl (86 kB)\n",
      "     ---------------------------------------- 86.8/86.8 kB 2.5 MB/s eta 0:00:00\n",
      "Collecting azure-mgmt-network<=26.0.0\n",
      "  Downloading azure_mgmt_network-26.0.0-py3-none-any.whl (617 kB)\n",
      "     -------------------------------------- 617.4/617.4 kB 3.0 MB/s eta 0:00:00\n",
      "Requirement already satisfied: jmespath<2.0.0 in c:\\users\\user\\anaconda3\\lib\\site-packages (from azureml-core~=1.57.0->azureml-sdk) (0.10.0)\n",
      "Requirement already satisfied: python-dateutil<3.0.0,>=2.7.3 in c:\\users\\user\\anaconda3\\lib\\site-packages (from azureml-core~=1.57.0->azureml-sdk) (2.8.2)\n",
      "Requirement already satisfied: requests[socks]<3.0.0,>=2.19.1 in c:\\users\\user\\anaconda3\\lib\\site-packages (from azureml-core~=1.57.0->azureml-sdk) (2.28.1)\n",
      "Requirement already satisfied: backports.tempfile in c:\\users\\user\\anaconda3\\lib\\site-packages (from azureml-core~=1.57.0->azureml-sdk) (1.0)\n",
      "Collecting contextlib2<22.0.0\n",
      "  Downloading contextlib2-21.6.0-py2.py3-none-any.whl (13 kB)\n",
      "Requirement already satisfied: packaging<=25.0,>=20.0 in c:\\users\\user\\anaconda3\\lib\\site-packages (from azureml-core~=1.57.0->azureml-sdk) (21.3)\n",
      "Collecting argcomplete<4\n",
      "  Downloading argcomplete-3.5.0-py3-none-any.whl (43 kB)\n",
      "     ---------------------------------------- 43.5/43.5 kB 2.1 MB/s eta 0:00:00\n",
      "Collecting jsonpickle<4.0.0\n",
      "  Downloading jsonpickle-3.2.2-py3-none-any.whl (41 kB)\n",
      "     ---------------------------------------- 41.8/41.8 kB 2.1 MB/s eta 0:00:00\n",
      "Collecting azureml-dataprep<5.2.0a,>=5.1.0a\n",
      "  Downloading azureml_dataprep-5.1.6-py3-none-any.whl (252 kB)\n",
      "     -------------------------------------- 252.4/252.4 kB 2.6 MB/s eta 0:00:00\n",
      "Collecting pyarrow>=0.17.0\n",
      "  Downloading pyarrow-17.0.0-cp39-cp39-win_amd64.whl (25.1 MB)\n",
      "     ---------------------------------------- 25.1/25.1 MB 3.1 MB/s eta 0:00:00\n",
      "Requirement already satisfied: numpy!=1.19.4,<1.24 in c:\\users\\user\\anaconda3\\lib\\site-packages (from azureml-dataset-runtime[fuse]~=1.57.0->azureml-sdk) (1.21.6)\n",
      "Collecting fusepy<4.0.0,>=3.0.1\n",
      "  Downloading fusepy-3.0.1.tar.gz (11 kB)\n",
      "  Preparing metadata (setup.py): started\n",
      "  Preparing metadata (setup.py): finished with status 'done'\n",
      "Collecting azureml-pipeline-core~=1.57.0\n",
      "  Downloading azureml_pipeline_core-1.57.0-py3-none-any.whl (313 kB)\n",
      "     -------------------------------------- 313.7/313.7 kB 2.4 MB/s eta 0:00:00\n",
      "Collecting azureml-pipeline-steps~=1.57.0\n",
      "  Downloading azureml_pipeline_steps-1.57.0-py3-none-any.whl (69 kB)\n",
      "     ---------------------------------------- 69.6/69.6 kB 4.0 MB/s eta 0:00:00\n",
      "Collecting azureml-telemetry~=1.57.0\n",
      "  Downloading azureml_telemetry-1.57.0-py3-none-any.whl (30 kB)\n",
      "Collecting azureml-automl-core~=1.57.0\n",
      "  Downloading azureml_automl_core-1.57.0-py3-none-any.whl (249 kB)\n",
      "     -------------------------------------- 249.6/249.6 kB 3.8 MB/s eta 0:00:00\n",
      "Collecting azureml-train-restclients-hyperdrive~=1.57.0\n",
      "  Downloading azureml_train_restclients_hyperdrive-1.57.0-py3-none-any.whl (18 kB)\n",
      "Requirement already satisfied: cryptography>=1.1.0 in c:\\users\\user\\anaconda3\\lib\\site-packages (from adal<=1.2.7,>=1.2.0->azureml-core~=1.57.0->azureml-sdk) (37.0.1)\n",
      "Requirement already satisfied: typing-extensions>=4.6.0 in c:\\users\\user\\anaconda3\\lib\\site-packages (from azure-core<2.0.0->azureml-core~=1.57.0->azureml-sdk) (4.12.2)\n",
      "Requirement already satisfied: six>=1.11.0 in c:\\users\\user\\anaconda3\\lib\\site-packages (from azure-core<2.0.0->azureml-core~=1.57.0->azureml-sdk) (1.16.0)\n",
      "Collecting isodate<1.0.0,>=0.6.1\n",
      "  Downloading isodate-0.6.1-py2.py3-none-any.whl (41 kB)\n",
      "     -------------------------------------- 41.7/41.7 kB 983.8 kB/s eta 0:00:00\n",
      "Collecting azure-mgmt-core<2.0.0,>=1.3.2\n",
      "  Downloading azure_mgmt_core-1.4.0-py3-none-any.whl (27 kB)\n",
      "Collecting importlib-resources<=6.4.0\n",
      "  Downloading importlib_resources-6.4.0-py3-none-any.whl (38 kB)\n",
      "Requirement already satisfied: importlib-metadata<=8.2.0 in c:\\users\\user\\anaconda3\\lib\\site-packages (from azureml-automl-core~=1.57.0->azureml-train-automl-client~=1.57.0->azureml-sdk) (4.11.3)\n",
      "Collecting azureml-dataprep-rslex~=2.22.2dev0\n",
      "  Downloading azureml_dataprep_rslex-2.22.3-cp39-cp39-win_amd64.whl (18.3 MB)\n",
      "     ---------------------------------------- 18.3/18.3 MB 3.4 MB/s eta 0:00:00\n",
      "Requirement already satisfied: jsonschema in c:\\users\\user\\anaconda3\\lib\\site-packages (from azureml-dataprep<5.2.0a,>=5.1.0a->azureml-dataset-runtime[fuse]~=1.57.0->azureml-sdk) (4.16.0)\n",
      "Requirement already satisfied: pyyaml<7.0.0,>=5.1.0 in c:\\users\\user\\anaconda3\\lib\\site-packages (from azureml-dataprep<5.2.0a,>=5.1.0a->azureml-dataset-runtime[fuse]~=1.57.0->azureml-sdk) (6.0)\n",
      "Requirement already satisfied: cloudpickle<3.0.0,>=1.1.0 in c:\\users\\user\\anaconda3\\lib\\site-packages (from azureml-dataprep<5.2.0a,>=5.1.0a->azureml-dataset-runtime[fuse]~=1.57.0->azureml-sdk) (2.0.0)\n",
      "Collecting azure-identity>=1.7.0\n",
      "  Downloading azure_identity-1.17.1-py3-none-any.whl (173 kB)\n",
      "     -------------------------------------- 173.2/173.2 kB 2.6 MB/s eta 0:00:00\n",
      "Collecting azureml-dataprep-native<42.0.0,>=41.0.0\n",
      "  Downloading azureml_dataprep_native-41.0.0-cp39-cp39-win_amd64.whl (890 kB)\n",
      "     -------------------------------------- 890.9/890.9 kB 4.7 MB/s eta 0:00:00\n",
      "Collecting applicationinsights\n",
      "  Downloading applicationinsights-0.11.10-py2.py3-none-any.whl (55 kB)\n",
      "     ---------------------------------------- 55.1/55.1 kB 1.4 MB/s eta 0:00:00\n",
      "Collecting pywin32>=304\n",
      "  Downloading pywin32-306-cp39-cp39-win_amd64.whl (9.3 MB)\n",
      "     ---------------------------------------- 9.3/9.3 MB 4.5 MB/s eta 0:00:00\n",
      "Collecting pyreadline3\n",
      "  Downloading pyreadline3-3.4.1-py3-none-any.whl (95 kB)\n",
      "     ---------------------------------------- 95.2/95.2 kB 2.7 MB/s eta 0:00:00\n",
      "Requirement already satisfied: tabulate in c:\\users\\user\\anaconda3\\lib\\site-packages (from knack<0.12.0->azureml-core~=1.57.0->azureml-sdk) (0.8.10)\n",
      "Requirement already satisfied: pygments in c:\\users\\user\\anaconda3\\lib\\site-packages (from knack<0.12.0->azureml-core~=1.57.0->azureml-sdk) (2.11.2)\n",
      "Collecting portalocker<3,>=1.4\n",
      "  Downloading portalocker-2.10.1-py3-none-any.whl (18 kB)\n",
      "Requirement already satisfied: requests-oauthlib>=0.5.0 in c:\\users\\user\\anaconda3\\lib\\site-packages (from msrest<=0.7.1,>=0.5.1->azureml-core~=1.57.0->azureml-sdk) (1.3.1)\n",
      "Requirement already satisfied: certifi>=2017.4.17 in c:\\users\\user\\anaconda3\\lib\\site-packages (from msrest<=0.7.1,>=0.5.1->azureml-core~=1.57.0->azureml-sdk) (2022.9.14)\n",
      "Requirement already satisfied: pyasn1>=0.1.1 in c:\\users\\user\\anaconda3\\lib\\site-packages (from ndg-httpsclient<=0.5.1->azureml-core~=1.57.0->azureml-sdk) (0.4.8)\n",
      "Requirement already satisfied: pyparsing!=3.0.5,>=2.0.2 in c:\\users\\user\\anaconda3\\lib\\site-packages (from packaging<=25.0,>=20.0->azureml-core~=1.57.0->azureml-sdk) (3.0.9)\n",
      "Requirement already satisfied: bcrypt>=3.1.3 in c:\\users\\user\\anaconda3\\lib\\site-packages (from paramiko<4.0.0,>=2.0.8->azureml-core~=1.57.0->azureml-sdk) (3.2.0)\n",
      "Requirement already satisfied: pynacl>=1.0.1 in c:\\users\\user\\anaconda3\\lib\\site-packages (from paramiko<4.0.0,>=2.0.8->azureml-core~=1.57.0->azureml-sdk) (1.5.0)\n",
      "Collecting urllib3<3.0.0,>1.26.17\n",
      "  Downloading urllib3-1.26.19-py2.py3-none-any.whl (143 kB)\n",
      "     -------------------------------------- 143.9/143.9 kB 4.2 MB/s eta 0:00:00\n",
      "Requirement already satisfied: idna<4,>=2.5 in c:\\users\\user\\anaconda3\\lib\\site-packages (from requests[socks]<3.0.0,>=2.19.1->azureml-core~=1.57.0->azureml-sdk) (3.3)\n",
      "Requirement already satisfied: charset-normalizer<3,>=2 in c:\\users\\user\\anaconda3\\lib\\site-packages (from requests[socks]<3.0.0,>=2.19.1->azureml-core~=1.57.0->azureml-sdk) (2.0.4)\n",
      "Requirement already satisfied: PySocks!=1.5.7,>=1.5.6 in c:\\users\\user\\anaconda3\\lib\\site-packages (from requests[socks]<3.0.0,>=2.19.1->azureml-core~=1.57.0->azureml-sdk) (1.7.1)\n",
      "Collecting jeepney>=0.6\n",
      "  Downloading jeepney-0.8.0-py3-none-any.whl (48 kB)\n",
      "     ---------------------------------------- 48.4/48.4 kB 2.4 MB/s eta 0:00:00\n",
      "Requirement already satisfied: backports.weakref in c:\\users\\user\\anaconda3\\lib\\site-packages (from backports.tempfile->azureml-core~=1.57.0->azureml-sdk) (1.0.post1)\n",
      "Requirement already satisfied: cffi>=1.1 in c:\\users\\user\\anaconda3\\lib\\site-packages (from bcrypt>=3.1.3->paramiko<4.0.0,>=2.0.8->azureml-core~=1.57.0->azureml-sdk) (1.15.1)\n",
      "Requirement already satisfied: zipp>=0.5 in c:\\users\\user\\anaconda3\\lib\\site-packages (from importlib-metadata<=8.2.0->azureml-automl-core~=1.57.0->azureml-train-automl-client~=1.57.0->azureml-sdk) (3.8.0)\n",
      "Requirement already satisfied: oauthlib>=3.0.0 in c:\\users\\user\\anaconda3\\lib\\site-packages (from requests-oauthlib>=0.5.0->msrest<=0.7.1,>=0.5.1->azureml-core~=1.57.0->azureml-sdk) (3.2.2)\n",
      "Requirement already satisfied: attrs>=17.4.0 in c:\\users\\user\\anaconda3\\lib\\site-packages (from jsonschema->azureml-dataprep<5.2.0a,>=5.1.0a->azureml-dataset-runtime[fuse]~=1.57.0->azureml-sdk) (21.4.0)\n",
      "Requirement already satisfied: pyrsistent!=0.17.0,!=0.17.1,!=0.17.2,>=0.14.0 in c:\\users\\user\\anaconda3\\lib\\site-packages (from jsonschema->azureml-dataprep<5.2.0a,>=5.1.0a->azureml-dataset-runtime[fuse]~=1.57.0->azureml-sdk) (0.18.0)\n",
      "Requirement already satisfied: pycparser in c:\\users\\user\\anaconda3\\lib\\site-packages (from cffi>=1.1->bcrypt>=3.1.3->paramiko<4.0.0,>=2.0.8->azureml-core~=1.57.0->azureml-sdk) (2.21)\n",
      "Building wheels for collected packages: fusepy\n",
      "  Building wheel for fusepy (setup.py): started\n",
      "  Building wheel for fusepy (setup.py): finished with status 'done'\n",
      "  Created wheel for fusepy: filename=fusepy-3.0.1-py3-none-any.whl size=10486 sha256=b671ceb649fc0b5f1eda70c6bd19e1feb4990fec96df938a352f0c00ebbcaf86\n",
      "  Stored in directory: c:\\users\\user\\appdata\\local\\pip\\cache\\wheels\\d5\\60\\5d\\807081f971b004ab5c86eba746c6b5e72d0258215bf2425d68\n",
      "Successfully built fusepy\n",
      "Installing collected packages: pywin32, pyreadline3, fusepy, azureml-dataprep-rslex, azureml-dataprep-native, azure-common, applicationinsights, urllib3, pyarrow, portalocker, jsonpickle, jeepney, isodate, importlib-resources, humanfriendly, contextlib2, argcomplete, knack, SecretStorage, docker, azure-core, adal, ndg-httpsclient, msrest, msal, azure-mgmt-core, msrestazure, msal-extensions, azure-mgmt-storage, azure-mgmt-resource, azure-mgmt-network, azure-mgmt-keyvault, azure-mgmt-containerregistry, azure-mgmt-authorization, azureml-train-restclients-hyperdrive, azure-identity, azure-graphrbac, azureml-dataprep, azureml-core, azureml-telemetry, azureml-pipeline-core, azureml-dataset-runtime, azureml-train-core, azureml-automl-core, azureml-train-automl-client, azureml-pipeline-steps, azureml-pipeline, azureml-sdk\n",
      "  Attempting uninstall: pywin32\n",
      "    Found existing installation: pywin32 302\n",
      "    Uninstalling pywin32-302:\n",
      "      Successfully uninstalled pywin32-302\n",
      "  Attempting uninstall: urllib3\n",
      "    Found existing installation: urllib3 1.26.11\n",
      "    Uninstalling urllib3-1.26.11:\n",
      "      Successfully uninstalled urllib3-1.26.11\n",
      "Successfully installed SecretStorage-3.3.3 adal-1.2.7 applicationinsights-0.11.10 argcomplete-3.5.0 azure-common-1.1.28 azure-core-1.30.2 azure-graphrbac-0.61.1 azure-identity-1.17.1 azure-mgmt-authorization-4.0.0 azure-mgmt-containerregistry-10.3.0 azure-mgmt-core-1.4.0 azure-mgmt-keyvault-10.3.1 azure-mgmt-network-26.0.0 azure-mgmt-resource-23.1.1 azure-mgmt-storage-21.2.1 azureml-automl-core-1.57.0 azureml-core-1.57.0 azureml-dataprep-5.1.6 azureml-dataprep-native-41.0.0 azureml-dataprep-rslex-2.22.3 azureml-dataset-runtime-1.57.0 azureml-pipeline-1.57.0 azureml-pipeline-core-1.57.0 azureml-pipeline-steps-1.57.0 azureml-sdk-1.57.0 azureml-telemetry-1.57.0 azureml-train-automl-client-1.57.0 azureml-train-core-1.57.0 azureml-train-restclients-hyperdrive-1.57.0 contextlib2-21.6.0 docker-7.1.0 fusepy-3.0.1 humanfriendly-10.0 importlib-resources-6.4.0 isodate-0.6.1 jeepney-0.8.0 jsonpickle-3.2.2 knack-0.11.0 msal-1.30.0 msal-extensions-1.2.0 msrest-0.7.1 msrestazure-0.6.4.post1 ndg-httpsclient-0.5.1 portalocker-2.10.1 pyarrow-17.0.0 pyreadline3-3.4.1 pywin32-306 urllib3-1.26.19\n"
     ]
    },
    {
     "name": "stderr",
     "output_type": "stream",
     "text": [
      "ERROR: pip's dependency resolver does not currently take into account all the packages that are installed. This behaviour is the source of the following dependency conflicts.\n",
      "conda-repo-cli 1.0.20 requires clyent==1.2.1, but you have clyent 1.2.2 which is incompatible.\n",
      "conda-repo-cli 1.0.20 requires nbformat==5.4.0, but you have nbformat 5.5.0 which is incompatible.\n"
     ]
    }
   ],
   "source": [
    "!pip install azureml-sdk"
   ]
  },
  {
   "cell_type": "markdown",
   "id": "bde701c0-b13c-490e-8b5d-d28f0f94828e",
   "metadata": {},
   "source": [
    "**Importing the dependencies**"
   ]
  },
  {
   "cell_type": "code",
   "execution_count": 2,
   "id": "00622403-3ce4-49a3-bf79-46b4dd35d6f0",
   "metadata": {},
   "outputs": [
    {
     "name": "stderr",
     "output_type": "stream",
     "text": [
      "C:\\Users\\user\\anaconda3\\lib\\site-packages\\paramiko\\transport.py:219: CryptographyDeprecationWarning: Blowfish has been deprecated\n",
      "  \"class\": algorithms.Blowfish,\n"
     ]
    }
   ],
   "source": [
    "import os\n",
    "import json\n",
    "import requests\n",
    "\n",
    "from azureml.core import Workspace\n",
    "from azureml.core.model import Model\n",
    "from azureml.core.environment import Environment\n",
    "from azureml.core.conda_dependencies import CondaDependencies\n",
    "from azureml.core.model import InferenceConfig\n",
    "from azureml.core.webservice import AciWebservice, Webservice"
   ]
  },
  {
   "cell_type": "code",
   "execution_count": 3,
   "id": "20511285-c420-4366-a738-e363881489b4",
   "metadata": {},
   "outputs": [
    {
     "ename": "FileNotFoundError",
     "evalue": "[Errno 2] No such file or directory: 'config.json'",
     "output_type": "error",
     "traceback": [
      "\u001b[1;31m---------------------------------------------------------------------------\u001b[0m",
      "\u001b[1;31mFileNotFoundError\u001b[0m                         Traceback (most recent call last)",
      "\u001b[1;32m~\\AppData\\Local\\Temp\\ipykernel_3320\\2027439429.py\u001b[0m in \u001b[0;36m<module>\u001b[1;34m\u001b[0m\n\u001b[0;32m      3\u001b[0m \u001b[1;33m\u001b[0m\u001b[0m\n\u001b[0;32m      4\u001b[0m \u001b[1;31m# Read JSON data into a dictionary\u001b[0m\u001b[1;33m\u001b[0m\u001b[1;33m\u001b[0m\u001b[0m\n\u001b[1;32m----> 5\u001b[1;33m \u001b[1;32mwith\u001b[0m \u001b[0mopen\u001b[0m\u001b[1;33m(\u001b[0m\u001b[0mconfig_file_path\u001b[0m\u001b[1;33m,\u001b[0m \u001b[1;34m'r'\u001b[0m\u001b[1;33m)\u001b[0m \u001b[1;32mas\u001b[0m \u001b[0mfile\u001b[0m\u001b[1;33m:\u001b[0m\u001b[1;33m\u001b[0m\u001b[1;33m\u001b[0m\u001b[0m\n\u001b[0m\u001b[0;32m      6\u001b[0m     \u001b[0mdata\u001b[0m \u001b[1;33m=\u001b[0m \u001b[0mjson\u001b[0m\u001b[1;33m.\u001b[0m\u001b[0mload\u001b[0m\u001b[1;33m(\u001b[0m\u001b[0mfile\u001b[0m\u001b[1;33m)\u001b[0m\u001b[1;33m\u001b[0m\u001b[1;33m\u001b[0m\u001b[0m\n\u001b[0;32m      7\u001b[0m \u001b[1;33m\u001b[0m\u001b[0m\n",
      "\u001b[1;31mFileNotFoundError\u001b[0m: [Errno 2] No such file or directory: 'config.json'"
     ]
    }
   ],
   "source": [
    "# laoding the configuration file - standard way - use .env file and load_dotenv from python-dotenv module\n",
    "config_file_path = \"config.json\"\n",
    "\n",
    "# Read JSON data into a dictionary\n",
    "with open(config_file_path, 'r') as file:\n",
    "    data = json.load(file)\n",
    "\n",
    "subscription_id = data[\"subscription_id\"]\n",
    "resource_group = data[\"resource_group\"]  \n",
    "workspace_name = data[\"workspace_name\"]\n",
    "region = data[\"region\"]"
   ]
  },
  {
   "cell_type": "code",
   "execution_count": 6,
   "id": "2181b4be-b18b-4f73-936c-b2df905c5c4f",
   "metadata": {},
   "outputs": [
    {
     "name": "stdout",
     "output_type": "stream",
     "text": [
      "ml-model-deployment-rg\n",
      "deploy-sklearn-model-ws\n",
      "centralindia\n"
     ]
    }
   ],
   "source": [
    "print(resource_group)\n",
    "print(workspace_name)\n",
    "print(region)"
   ]
  },
  {
   "cell_type": "markdown",
   "id": "1169e424-9325-4eae-bb4a-6cd33ff84db9",
   "metadata": {},
   "source": [
    "**Create a Resource Group from Azure Portal**"
   ]
  },
  {
   "cell_type": "code",
   "execution_count": 7,
   "id": "67ea9e3f-95be-436d-b9de-e395c093b4c6",
   "metadata": {},
   "outputs": [
    {
     "name": "stdout",
     "output_type": "stream",
     "text": [
      "Cleaning up past default Resource Group Deployments on the subscription to avoid limit of 10\n",
      "Deleting past Resource Group Deployment with name: DeployResourceGroup-44b8aada47\n",
      "Deploying StorageAccount with name deployskstorage58ab4a9af.\n",
      "Deploying KeyVault with name deployskkeyvault0cccf204.\n",
      "Deploying Workspace with name deploy-sklearn-model-ws.\n",
      "Deploying AppInsights with name deployskinsights8b6b676b.\n",
      "Deployed AppInsights with name deployskinsights8b6b676b. Took 36.98 seconds.\n",
      "Deployed Workspace with name deploy-sklearn-model-ws. Took 33.46 seconds.\n",
      "Workspace deploy-sklearn-model-ws created\n"
     ]
    }
   ],
   "source": [
    "# Create a workspace\n",
    "\n",
    "ws = Workspace.create(name=workspace_name,\n",
    "                      subscription_id=subscription_id,\n",
    "                      resource_group=resource_group,\n",
    "                      location=region)\n",
    "\n",
    "print(f'Workspace {workspace_name} created')"
   ]
  },
  {
   "cell_type": "code",
   "execution_count": 8,
   "id": "3a59b584-1f6a-4605-99a2-0d9e649d22b9",
   "metadata": {},
   "outputs": [],
   "source": [
    "# Specify the path to your  model file\n",
    "model_path = 'diabetes_model.pkl'"
   ]
  },
  {
   "cell_type": "code",
   "execution_count": 9,
   "id": "4128cd49-48bf-4a97-a931-8d7c391d7e98",
   "metadata": {},
   "outputs": [],
   "source": [
    "model_name='diabetes_prediction_model'"
   ]
  },
  {
   "cell_type": "code",
   "execution_count": 10,
   "id": "383488f6-6d86-4efc-9906-17547c6c5f53",
   "metadata": {},
   "outputs": [
    {
     "name": "stdout",
     "output_type": "stream",
     "text": [
      "Registering model diabetes_prediction_model\n"
     ]
    }
   ],
   "source": [
    "# Register the model in Azure Machine Learning\n",
    "registered_model = Model.register(model_path=model_path, model_name=model_name, workspace=ws)"
   ]
  },
  {
   "cell_type": "code",
   "execution_count": 11,
   "id": "064fbfc8-b4fd-493a-a383-1f7edb86479a",
   "metadata": {},
   "outputs": [],
   "source": [
    "# Create a Conda environment for your scikit-learn model\n",
    "conda_env = Environment('my-conda-env')\n",
    "conda_env.python.conda_dependencies = CondaDependencies.create(conda_packages=['scikit-learn'])"
   ]
  },
  {
   "cell_type": "code",
   "execution_count": 12,
   "id": "1ff71338-a9a9-4b5c-993d-4ac3091db355",
   "metadata": {},
   "outputs": [],
   "source": [
    "# Create an InferenceConfig\n",
    "inference_config = InferenceConfig(entry_script='score.py', environment=conda_env)"
   ]
  },
  {
   "cell_type": "code",
   "execution_count": 13,
   "id": "17ac0a14-c826-4331-9932-7b9d4b185749",
   "metadata": {},
   "outputs": [],
   "source": [
    "# Specify deployment configuration for ACI\n",
    "aci_config = AciWebservice.deploy_configuration(cpu_cores=1, memory_gb=1)"
   ]
  },
  {
   "cell_type": "code",
   "execution_count": 14,
   "id": "2c72d776-7f1e-49ad-8c43-f837b23e8645",
   "metadata": {},
   "outputs": [
    {
     "name": "stderr",
     "output_type": "stream",
     "text": [
      "/tmp/ipykernel_18897/3861565384.py:1: FutureWarning: azureml.core.model:\n",
      "To leverage new model deployment capabilities, AzureML recommends using CLI/SDK v2 to deploy models as online endpoint, \n",
      "please refer to respective documentations \n",
      "https://docs.microsoft.com/azure/machine-learning/how-to-deploy-managed-online-endpoints /\n",
      "https://docs.microsoft.com/azure/machine-learning/how-to-attach-kubernetes-anywhere \n",
      "For more information on migration, see https://aka.ms/acimoemigration \n",
      "To disable CLI/SDK v1 deprecation warning set AZUREML_LOG_DEPRECATION_WARNING_ENABLED to 'False'\n",
      "  service = Model.deploy(workspace=ws,\n"
     ]
    },
    {
     "name": "stdout",
     "output_type": "stream",
     "text": [
      "Tips: You can try get_logs(): https://aka.ms/debugimage#dockerlog or local deployment: https://aka.ms/debugimage#debug-locally to debug if deployment takes longer than 10 minutes.\n",
      "Running\n",
      "2024-01-07 13:25:51+05:30 Creating Container Registry if not exists..\n",
      "2024-01-07 13:35:51+05:30 Registering the environment..\n",
      "2024-01-07 13:35:55+05:30 Building image..\n",
      "2024-01-07 13:46:10+05:30 Generating deployment configuration.\n",
      "2024-01-07 13:46:11+05:30 Submitting deployment to compute..\n",
      "2024-01-07 13:46:19+05:30 Checking the status of deployment diabetes-prediction-service..\n",
      "2024-01-07 13:48:02+05:30 Checking the status of inference endpoint diabetes-prediction-service.\n",
      "Succeeded\n",
      "ACI service creation operation finished, operation \"Succeeded\"\n"
     ]
    }
   ],
   "source": [
    "service = Model.deploy(workspace=ws,\n",
    "                       name='diabetes-prediction-service',\n",
    "                       models=[registered_model],\n",
    "                       inference_config=inference_config,\n",
    "                       deployment_config=aci_config)\n",
    "service.wait_for_deployment(show_output=True)"
   ]
  },
  {
   "cell_type": "code",
   "execution_count": 15,
   "id": "69efb038-ad52-46d0-9f17-5acd96151214",
   "metadata": {},
   "outputs": [],
   "source": [
    "scoring_uri = service.scoring_uri"
   ]
  },
  {
   "cell_type": "code",
   "execution_count": 16,
   "id": "731b0f84-6e1a-4cc9-9497-e958f6efbd73",
   "metadata": {},
   "outputs": [
    {
     "data": {
      "text/plain": [
       "'http://82a1dd63-7ec8-49e6-8668-c222ce56cb2e.centralindia.azurecontainer.io/score'"
      ]
     },
     "execution_count": 16,
     "metadata": {},
     "output_type": "execute_result"
    }
   ],
   "source": [
    "scoring_uri"
   ]
  },
  {
   "cell_type": "markdown",
   "id": "d5cafb79-2702-4203-977d-4181247fcbd5",
   "metadata": {},
   "source": [
    "**Cleaning up all the created resources**"
   ]
  },
  {
   "cell_type": "code",
   "execution_count": 17,
   "id": "a1895e4a-551d-4472-99bb-8bc2993c699a",
   "metadata": {},
   "outputs": [],
   "source": [
    "# Delete the service\n",
    "\n",
    "service_name = \"diabetes-prediction-service\"\n",
    "\n",
    "service = ws.webservices[service_name]\n",
    "service.delete()"
   ]
  },
  {
   "cell_type": "code",
   "execution_count": 18,
   "id": "1f1e57ad-478c-4aed-b33a-08bf3f09632c",
   "metadata": {},
   "outputs": [],
   "source": [
    "# Specify the name of the registered model to delete\n",
    "model_name = 'diabetes_prediction_model'\n",
    "\n",
    "# Delete the model\n",
    "registered_model = ws.models[model_name]\n",
    "registered_model.delete()\n"
   ]
  },
  {
   "cell_type": "code",
   "execution_count": 19,
   "id": "84733dc8-3ddf-47a2-a906-644946a3a888",
   "metadata": {},
   "outputs": [],
   "source": [
    "# Delete the workspace\n",
    "ws.delete(delete_dependent_resources=True)"
   ]
  },
  {
   "cell_type": "code",
   "execution_count": null,
   "id": "ef508ef4-3c96-401a-886c-56b714becc34",
   "metadata": {},
   "outputs": [],
   "source": []
  },
  {
   "cell_type": "code",
   "execution_count": null,
   "id": "7e34d373-e7ab-436c-beff-f0b4294f6371",
   "metadata": {},
   "outputs": [],
   "source": []
  },
  {
   "cell_type": "code",
   "execution_count": null,
   "id": "07efd612-03cb-4b53-8958-8b418de56d7c",
   "metadata": {},
   "outputs": [],
   "source": []
  },
  {
   "cell_type": "markdown",
   "id": "53f91c0a-bad4-4131-9d3a-27901d17e0a8",
   "metadata": {},
   "source": [
    "1. Azure Account with appropriate subscription\n",
    "2. Configuration file that has subscription_id and other details like resource_group name, etc\n",
    "3. Create a resource group from Azure Portal\n",
    "4. Create a workspace\n",
    "5. Register the model in container registry\n",
    "6. Deploy the model as endpoint\n",
    "7. Once done, delete the created resources"
   ]
  },
  {
   "cell_type": "code",
   "execution_count": null,
   "id": "d2588a05-78bf-45f6-8ef2-230e2f116ba0",
   "metadata": {},
   "outputs": [],
   "source": []
  }
 ],
 "metadata": {
  "kernelspec": {
   "display_name": "Python 3 (ipykernel)",
   "language": "python",
   "name": "python3"
  },
  "language_info": {
   "codemirror_mode": {
    "name": "ipython",
    "version": 3
   },
   "file_extension": ".py",
   "mimetype": "text/x-python",
   "name": "python",
   "nbconvert_exporter": "python",
   "pygments_lexer": "ipython3",
   "version": "3.9.13"
  }
 },
 "nbformat": 4,
 "nbformat_minor": 5
}
